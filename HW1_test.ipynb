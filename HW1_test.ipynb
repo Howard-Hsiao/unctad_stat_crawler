{
 "cells": [
  {
   "cell_type": "code",
   "execution_count": 340,
   "metadata": {},
   "outputs": [],
   "source": [
    "import requests\n",
    "import xml.etree.ElementTree as ET\n",
    "import time\n",
    "import json\n",
    "import difflib\n",
    "from collections import namedtuple\n",
    "from urllib.parse import quote, unquote\n",
    "from openpyxl import Workbook, load_workbook"
   ]
  },
  {
   "cell_type": "code",
   "execution_count": 257,
   "metadata": {},
   "outputs": [],
   "source": [
    "# read the request \"getItem\" info\n",
    "rq_info = str() # request info\n",
    "rq_info_path = \"getItem.json\"\n",
    "with open(rq_info_path, \"r\", encoding = \"utf-8\") as file:\n",
    "    rq_info = file.read()\n",
    "    rq_info = json.loads(rq_info)\n",
    "\n",
    "# extract data from the rq_info\n",
    "URL = rq_info[\"url\"]\n",
    "headers = dict()\n",
    "for data in rq_info[\"headers\"]:\n",
    "    headers[data[\"name\"]] = data[\"value\"]\n",
    "    \n",
    "postData = rq_info[\"postData\"][\"params\"]\n",
    "postDataStr = \"\"\n",
    "if(isinstance(postData, list)):\n",
    "    for i, post in enumerate(postData):\n",
    "        if(i != 0):\n",
    "            postDataStr = postDataStr + '&'\n",
    "        postDataStr = postDataStr + post[\"name\"] + '=' + post[\"value\"]\n",
    "    postData = postDataStr"
   ]
  },
  {
   "cell_type": "code",
   "execution_count": 314,
   "metadata": {},
   "outputs": [
    {
     "data": {
      "text/plain": [
       "0.9438946936782628"
      ]
     },
     "execution_count": 314,
     "metadata": {},
     "output_type": "execute_result"
    }
   ],
   "source": [
    "from random import random\n",
    "random()\n"
   ]
  },
  {
   "cell_type": "raw",
   "metadata": {},
   "source": []
  },
  {
   "cell_type": "code",
   "execution_count": 107,
   "metadata": {},
   "outputs": [],
   "source": [
    "itemGetter = requests.post(url = URL, headers = headers, data = postData)"
   ]
  },
  {
   "cell_type": "code",
   "execution_count": 238,
   "metadata": {},
   "outputs": [],
   "source": [
    "root = ET.fromstring(itemGetter.text)"
   ]
  },
  {
   "cell_type": "code",
   "execution_count": 251,
   "metadata": {},
   "outputs": [
    {
     "name": "stdout",
     "output_type": "stream",
     "text": [
      "<class 'str'>\n"
     ]
    }
   ],
   "source": [
    "itemCode_dict = dict()\n",
    "for child in root:\n",
    "    data = child.attrib\n",
    "    itemCode_dict[data[\"Label\"].strip()] = data[\"Handle\"]\n",
    "itemCode_dict\n",
    "print(json.dumps(itemCode_dict))"
   ]
  },
  {
   "cell_type": "code",
   "execution_count": 115,
   "metadata": {},
   "outputs": [],
   "source": [
    "with open(\"./items.xml\", 'w', encoding=\"utf-8\") as file:\n",
    "    file.write(itemGetter.text)"
   ]
  },
  {
   "cell_type": "code",
   "execution_count": 113,
   "metadata": {},
   "outputs": [],
   "source": [
    "root = ET.fromstring(itemGetter.text)"
   ]
  },
  {
   "cell_type": "code",
   "execution_count": 131,
   "metadata": {},
   "outputs": [],
   "source": [
    "Item = namedtuple(\"Items\", [\"ItemCode\"])\n",
    "itemDict = dict()\n",
    "for child in root:\n",
    "    itemDict[child.attrib[\"Label\"].lower().strip()] = Item(ItemCode = child.attrib[\"_ItemCode\"])"
   ]
  },
  {
   "cell_type": "code",
   "execution_count": 140,
   "metadata": {},
   "outputs": [
    {
     "data": {
      "text/plain": [
       "Items(ItemCode='392')"
      ]
     },
     "execution_count": 140,
     "metadata": {},
     "output_type": "execute_result"
    }
   ],
   "source": [
    "itemDict[\"japan\"]"
   ]
  },
  {
   "cell_type": "code",
   "execution_count": 333,
   "metadata": {},
   "outputs": [],
   "source": [
    "# read the request \"getData\" info\n",
    "rq_info = str() # request info\n",
    "rq_info_path = \"./config/getData.json\"\n",
    "with open(rq_info_path, \"r\", encoding = \"utf-8\") as file:\n",
    "    rq_info = file.read()\n",
    "    rq_info = json.loads(rq_info)\n",
    "\n",
    "# extract data from the rq_info\n",
    "URL = rq_info[\"url\"]\n",
    "headers = dict()\n",
    "for data in rq_info[\"headers\"]:\n",
    "    headers[data[\"name\"]] = data[\"value\"]\n",
    "    \n",
    "postData = dict()\n",
    "for i, post in enumerate(rq_info[\"postData\"][\"params\"]):\n",
    "    postData[post[\"name\"]] = post[\"value\"]\n",
    "\n",
    "postData[\"sWD_ReportId\"] = \"180622\"\n",
    "postData[\"sWD_TableId\"] = \"1494\""
   ]
  },
  {
   "cell_type": "code",
   "execution_count": 334,
   "metadata": {},
   "outputs": [
    {
     "name": "stdout",
     "output_type": "stream",
     "text": [
      "{'sWD_ReportId': '180622', 'sWD_TableId': '1494', 'sWD_ReportView': '<ReportView><RowDims><Dim+name=%22ECONOMY%22><Groups+activeGroup=%22e612da50-1b0a-4a2e-ab06-7431c214e37a%22><Group+id=%22e612da50-1b0a-4a2e-ab06-7431c214e37a%22+type=%22Selection%22><Definition><Items+type=%22handles%22><String+value=%220,225,226,227,228,229,230,231,232,233,234,235,236,237,238,239,240,241,242,243,244,245,246,247,248,249,250,251,252,253,254,255,256,257,258,259,260,261,262,263,264,265,266,267,268,269,270,271,272,273,274,275,276,277,278,279,280,281,282,283,284,285,286,287,288,289,290,291,292,293,294,295,296,297,298,299,300,301,302,303,304,305,306,307,308,309,310,311,312,313,314,315,316,317,318,319,320,321,322,323,324,325,326,327,328,329,330,334,335,336,337,338,339,340,341,342,343,344,345,346,347,348,349,350,351,352,353,354,355,356,357,358,359,360,361,362,363,364,365,366,367,368,369,370,371,372,373,374,375,376,377,378,379,380,381,219%22%2F><%2FItems><%2FDefinition><ActiveItem+pos=%221%22+%2F><%2FGroup><%2FGroups><%2FDim><%2FRowDims><ColDims><Dim+name=%22YEAR%22><Groups+activeGroup=%220e0da7b2-0d35-400d-ab5a-b4f842cf34c2%22><Group+id=%220e0da7b2-0d35-400d-ab5a-b4f842cf34c2%22+type=%22Selection%22><Definition><All%2F><%2FDefinition><ActiveItem+pos=%220%22+%2F><%2FGroup><%2FGroups><%2FDim><%2FColDims><OtherDims><Dim+name=%22PRODUCT%22><Groups+activeGroup=%228b289558-d1fc-4c95-9280-5743a29e49f5%22><Group+id=%228b289558-d1fc-4c95-9280-5743a29e49f5%22+type=%22Selection%22><Definition><All%2F><%2FDefinition><ActiveItem+pos=%220%22+%2F><%2FGroup><%2FGroups><%2FDim><Dim+name=%22PARTNER%22><Groups+activeGroup=%221509a964-c115-4299-868d-eee701fabaca%22><Group+id=%221509a964-c115-4299-868d-eee701fabaca%22+type=%22Selection%22><Definition><Items+type=%22handles%22><String+value=%220,238,239,240,241,242,243,244,245,246,247,248,249,252,253,254,255,256,257,258,259,260,261,262,263,264,265,266,267,268,269,270,271,272,273,274,275,276,277,278,279,280,281,282,283,284,285,286,287,288,289,290,291,292,293,294,295,296,297,298,299,300,301,302,303,304,305,306,307,308,309,310,311,312,313,314,315,316,317,318,319,320,321,322,323,324,325,326,327,328,329,330,331,332,333,334,335,336,337,338,339,340,341,342,343,344,345,349,350,351,352,353,354,355,356,357,358,359,360,361,362,363,364,365,366,367,368,369,370,371,372,373,374,375,376,377,378,379,380,381,382,383,384,385,386,387,388,389,390,391,392,393,394,395,396,48,46,111%22%2F><%2FItems><%2FDefinition><ActiveItem+pos=%222%22+%2F><%2FGroup><%2FGroups><%2FDim><%2FOtherDims><Chart+type=%22%22+rows=%22-1%22+cols=%22-1%22+labels=%22False%22+%2F><%2FReportView>'}\n"
     ]
    }
   ],
   "source": [
    "print(postData)"
   ]
  },
  {
   "cell_type": "code",
   "execution_count": 335,
   "metadata": {},
   "outputs": [
    {
     "name": "stdout",
     "output_type": "stream",
     "text": [
      "<ReportView><RowDims><Dim name=\"ECONOMY\"><Groups activeGroup=\"e612da50-1b0a-4a2e-ab06-7431c214e37a\"><Group id=\"e612da50-1b0a-4a2e-ab06-7431c214e37a\" type=\"Selection\"><Definition><Items type=\"handles\"><String value=\"219\" /></Items></Definition><ActiveItem pos=\"1\" /></Group></Groups></Dim></RowDims><ColDims><Dim name=\"YEAR\"><Groups activeGroup=\"0e0da7b2-0d35-400d-ab5a-b4f842cf34c2\"><Group id=\"0e0da7b2-0d35-400d-ab5a-b4f842cf34c2\" type=\"Selection\"><Definition><All /></Definition><ActiveItem pos=\"0\" /></Group></Groups></Dim></ColDims><OtherDims><Dim name=\"PRODUCT\"><Groups activeGroup=\"8b289558-d1fc-4c95-9280-5743a29e49f5\"><Group id=\"8b289558-d1fc-4c95-9280-5743a29e49f5\" type=\"Selection\"><Definition><All /></Definition><ActiveItem pos=\"0\" /></Group></Groups></Dim><Dim name=\"PARTNER\"><Groups activeGroup=\"1509a964-c115-4299-868d-eee701fabaca\"><Group id=\"1509a964-c115-4299-868d-eee701fabaca\" type=\"Selection\"><Definition><Items type=\"handles\"><String value=\"48\" /></Items></Definition><ActiveItem pos=\"2\" /></Group></Groups></Dim></OtherDims><Chart cols=\"-1\" labels=\"False\" rows=\"-1\" type=\"\" /></ReportView>\n"
     ]
    }
   ],
   "source": [
    "reportView = unquote(postData[\"sWD_ReportView\"])\n",
    "reportView = '<?xml version=\"1.0\" encoding=\"UTF-8\"?>' + reportView\n",
    "reportView = reportView.replace('+', ' ')\n",
    "reportView = ET.fromstring(reportView)\n",
    "for target in reportView.findall(r\"./OtherDims/Dim[@name='PARTNER']\"):\n",
    "    target.find(\".//String\").attrib[\"value\"] = \"48\" # 一次只能一個喔\n",
    "    \n",
    "for target in reportView.findall(r\"./RowDims/Dim[@name='ECONOMY']\"):\n",
    "    target.find(\".//String\").attrib[\"value\"] = \"219\" # 一次只能一個喔\n",
    "    \n",
    "for target in reportView.findall(r\"./OtherDims/Dim[@name='PRODUCT']\"):\n",
    "    target.find(\".//ActiveItem\").attrib[\"pos\"] = \"0\" # 一次只能一個喔\n",
    "    \n",
    "reportView = ET.tostring(reportView).decode(\"utf-8\")\n",
    "print(reportView)"
   ]
  },
  {
   "cell_type": "code",
   "execution_count": 336,
   "metadata": {},
   "outputs": [
    {
     "name": "stdout",
     "output_type": "stream",
     "text": [
      "sWD_ReportId=180622&sWD_TableId=1494&sWD_ReportView=<ReportView><RowDims><Dim name=\"ECONOMY\"><Groups activeGroup=\"e612da50-1b0a-4a2e-ab06-7431c214e37a\"><Group id=\"e612da50-1b0a-4a2e-ab06-7431c214e37a\" type=\"Selection\"><Definition><Items type=\"handles\"><String value=\"219\" /></Items></Definition><ActiveItem pos=\"1\" /></Group></Groups></Dim></RowDims><ColDims><Dim name=\"YEAR\"><Groups activeGroup=\"0e0da7b2-0d35-400d-ab5a-b4f842cf34c2\"><Group id=\"0e0da7b2-0d35-400d-ab5a-b4f842cf34c2\" type=\"Selection\"><Definition><All /></Definition><ActiveItem pos=\"0\" /></Group></Groups></Dim></ColDims><OtherDims><Dim name=\"PRODUCT\"><Groups activeGroup=\"8b289558-d1fc-4c95-9280-5743a29e49f5\"><Group id=\"8b289558-d1fc-4c95-9280-5743a29e49f5\" type=\"Selection\"><Definition><All /></Definition><ActiveItem pos=\"0\" /></Group></Groups></Dim><Dim name=\"PARTNER\"><Groups activeGroup=\"1509a964-c115-4299-868d-eee701fabaca\"><Group id=\"1509a964-c115-4299-868d-eee701fabaca\" type=\"Selection\"><Definition><Items type=\"handles\"><String value=\"48\" /></Items></Definition><ActiveItem pos=\"2\" /></Group></Groups></Dim></OtherDims><Chart cols=\"-1\" labels=\"False\" rows=\"-1\" type=\"\" /></ReportView>\n"
     ]
    }
   ],
   "source": [
    "postData[\"sWD_ReportView\"] = reportView\n",
    "postDataStr = \"\"\n",
    "count = 0\n",
    "for key, value in postData.items():\n",
    "    if(count != 0):\n",
    "        postDataStr = postDataStr + '&'\n",
    "    postDataStr = postDataStr + key + '=' + value\n",
    "    count += 1\n",
    "print(postDataStr)"
   ]
  },
  {
   "cell_type": "code",
   "execution_count": 337,
   "metadata": {},
   "outputs": [],
   "source": [
    "dataGetter = requests.post(url = URL, headers = headers, data = postData)"
   ]
  },
  {
   "cell_type": "code",
   "execution_count": 338,
   "metadata": {},
   "outputs": [
    {
     "name": "stdout",
     "output_type": "stream",
     "text": [
      "<?xml version=\"1.0\" encoding=\"UTF-8\"?>\r\n",
      "<CubeView lang=\"eng\"><Data rows=\"1\" cols=\"24\" rowPos=\"0\" colPos=\"0\" rowspan=\"1\" colspan=\"24\" d=\"6\"><Headers rowspan=\"1\" colspan=\"24\"><Slicer dimCount=\"4\"><Dim active=\"0\" dimLabel=\"PRODUCT\" hasDimNotes=\"false\" hasMemberNotes=\"false\" isChild=\"false\" isParent=\"false\" label=\"Total all products\" members=\"123\" position=\"2\" required=\"true\"/><Dim active=\"0\" dimLabel=\"PARTNER\" hasDimNotes=\"false\" hasMemberNotes=\"false\" isChild=\"true\" isParent=\"false\" label=\"          China, Taiwan Province of\" members=\"1\" position=\"1\" required=\"true\"/></Slicer><ColHeader coldimcount=\"1\"><ColDim position=\"3\"><DimLabel>YEAR</DimLabel><ColLabels><ColLabel col=\"0\" member=\"0\" id=\"L0\" isParent=\"false\" isChild=\"false\">1995</ColLabel><ColLabel col=\"1\" member=\"1\" id=\"L1\" isParent=\"false\" isChild=\"false\">1996</ColLabel><ColLabel col=\"2\" member=\"2\" id=\"L2\" isParent=\"false\" isChild=\"false\">1997</ColLabel><ColLabel col=\"3\" member=\"3\" id=\"L3\" isParent=\"false\" isChild=\"false\">1998</ColLabel><ColLabel col=\"4\" member=\"4\" id=\"L4\" isParent=\"false\" isChild=\"false\">1999</ColLabel><ColLabel col=\"5\" member=\"5\" id=\"L5\" isParent=\"false\" isChild=\"false\">2000</ColLabel><ColLabel col=\"6\" member=\"6\" id=\"L6\" isParent=\"false\" isChild=\"false\">2001</ColLabel><ColLabel col=\"7\" member=\"7\" id=\"L7\" isParent=\"false\" isChild=\"false\">2002</ColLabel><ColLabel col=\"8\" member=\"8\" id=\"L8\" isParent=\"false\" isChild=\"false\">2003</ColLabel><ColLabel col=\"9\" member=\"9\" id=\"L9\" isParent=\"false\" isChild=\"false\">2004</ColLabel><ColLabel col=\"10\" member=\"10\" id=\"L10\" isParent=\"false\" isChild=\"false\">2005</ColLabel><ColLabel col=\"11\" member=\"11\" id=\"L11\" isParent=\"false\" isChild=\"false\">2006</ColLabel><ColLabel col=\"12\" member=\"12\" id=\"L12\" isParent=\"false\" isChild=\"false\">2007</ColLabel><ColLabel col=\"13\" member=\"13\" id=\"L13\" isParent=\"false\" isChild=\"false\">2008</ColLabel><ColLabel col=\"14\" member=\"14\" id=\"L14\" isParent=\"false\" isChild=\"false\">2009</ColLabel><ColLabel col=\"15\" member=\"15\" id=\"L15\" isParent=\"false\" isChild=\"false\">2010</ColLabel><ColLabel col=\"16\" member=\"16\" id=\"L16\" isParent=\"false\" isChild=\"false\">2011</ColLabel><ColLabel col=\"17\" member=\"17\" id=\"L17\" isParent=\"false\" isChild=\"false\">2012</ColLabel><ColLabel col=\"18\" member=\"18\" id=\"L18\" isParent=\"false\" isChild=\"false\">2013</ColLabel><ColLabel col=\"19\" member=\"19\" id=\"L19\" isParent=\"false\" isChild=\"false\">2014</ColLabel><ColLabel col=\"20\" member=\"20\" id=\"L20\" isParent=\"false\" isChild=\"false\">2015</ColLabel><ColLabel col=\"21\" member=\"21\" id=\"L21\" isParent=\"false\" isChild=\"false\">2016</ColLabel><ColLabel col=\"22\" member=\"22\" id=\"L22\" isParent=\"false\" isChild=\"false\">2017</ColLabel><ColLabel col=\"23\" member=\"23\" id=\"L23\" isParent=\"false\" isChild=\"false\">2018</ColLabel></ColLabels></ColDim></ColHeader><RowHeader rowdimcount=\"1\"><RowDim position=\"0\"><DimLabel>ECONOMY</DimLabel></RowDim></RowHeader></Headers><Rows><Row><RowLabels><RowLabel member=\"0\" id=\"L24\" isParent=\"false\" isChild=\"true\">          Viet Nam</RowLabel></RowLabels><Cells><C headers=\"L24 L0 \" f=\"1 044 432\" v=\"1044432\"><Fs><F pos=\"0\"/></Fs></C><C headers=\"L24 L1 \" f=\"1 427 253\" v=\"1427253\"><Fs><F pos=\"0\"/></Fs></C><C headers=\"L24 L2 \" f=\"1 484 659\" v=\"1484658.944\"/><C headers=\"L24 L3 \" f=\"307 676\" v=\"307676\"/><C headers=\"L24 L4 \" f=\"1 566 357\" v=\"1566356.992\"/><C headers=\"L24 L5 \" f=\"1 879 692\" v=\"1879692\"/><C headers=\"L24 L6 \" f=\"2 008 677\" v=\"2008676.657\"/><C headers=\"L24 L7 \" f=\"2 525 278\" v=\"2525278.425\"/><C headers=\"L24 L8 \" f=\"2 915 517\" v=\"2915517.412\"/><C headers=\"L24 L9 \" f=\"3 698 302\" v=\"3698301.667\"/><C headers=\"L24 L10 \" f=\"4 304 234\" v=\"4304234.374\"/><C headers=\"L24 L11 \" f=\"4 824 888\" v=\"4824888.351\"/><C headers=\"L24 L12 \" f=\"6 946 724\" v=\"6946723.775\"/><C headers=\"L24 L13 \" f=\"8 362 636\" v=\"8362636.4\"/><C headers=\"L24 L14 \" f=\"6 252 556\" v=\"6252555.664\"/><C headers=\"L24 L15 \" f=\"6 976 931\" v=\"6976930.65\"/><C headers=\"L24 L16 \" f=\"8 556 781\" v=\"8556780.537000001\"/><C headers=\"L24 L17 \" f=\"8 534 198\" v=\"8534197.625\"/><C headers=\"L24 L18 \" f=\"9 402 001\" v=\"9402001.366\"/><C headers=\"L24 L19 \" f=\"11 063 579\" v=\"11063579.124\"/><C headers=\"L24 L20 \" f=\"10 943 323\" v=\"10943323.036\"/><C headers=\"L24 L21 \" f=\"11 241 779\" v=\"11241779.148\"/><C headers=\"L24 L22 \" f=\"12 709 685\" v=\"12709684.813\"/><C headers=\"L24 L23 \" f=\"13 618 249\" v=\"13618249.031\"><Fs><F pos=\"0\"/></Fs></C></Cells></Row></Rows></Data><Footnotes><Footnote pos=\"0\" refmark=\"5\">Estimated</Footnote></Footnotes></CubeView>\r\n",
      "\n"
     ]
    }
   ],
   "source": [
    "print(dataGetter.text)"
   ]
  },
  {
   "cell_type": "code",
   "execution_count": 307,
   "metadata": {},
   "outputs": [
    {
     "name": "stdout",
     "output_type": "stream",
     "text": [
      "483185\n",
      "643412\n",
      "814468\n",
      "212626\n",
      "682325\n",
      "756627\n",
      "805997\n",
      "817689\n",
      "749168\n",
      "890569\n",
      "935016\n",
      "968729\n",
      "1139387\n",
      "1401386\n",
      "1120643\n",
      "1442842\n",
      "1843298\n",
      "2081513\n",
      "2223616\n",
      "2306504\n",
      "2076425\n",
      "2272040\n",
      "2568269\n",
      "3503873\n",
      "CubeView\n"
     ]
    }
   ],
   "source": [
    "result = ET.fromstring(dataGetter.text)\n",
    "target = list()\n",
    "for value in result.findall(\".//C\"):\n",
    "    print(int(\"\".join(value.attrib[\"f\"].split()))) # get rid of space\n",
    "print(result.tag)"
   ]
  },
  {
   "cell_type": "code",
   "execution_count": 308,
   "metadata": {},
   "outputs": [
    {
     "data": {
      "text/plain": [
       "65"
      ]
     },
     "execution_count": 308,
     "metadata": {},
     "output_type": "execute_result"
    }
   ],
   "source": [
    "ord('A')"
   ]
  },
  {
   "cell_type": "code",
   "execution_count": 83,
   "metadata": {},
   "outputs": [
    {
     "name": "stdout",
     "output_type": "stream",
     "text": [
      "*** \n",
      "--- \n",
      "***************\n",
      "*** 36,42 ****\n",
      "  \"  ?  >! \r",
      "  \n",
      "  <  C--- 36,42 ----\n",
      "  \"  ?  >! \n",
      "  \n",
      "  <  C***************\n",
      "*** 147029,147033 ****\n",
      "  e  w  >- \r",
      "  \n",
      "--- 147029,147033 ----\n",
      "  e  w  >  \n",
      "+ \n",
      "\n"
     ]
    }
   ],
   "source": [
    "with open(\"result.xml\", \"r\", encoding = \"utf-8\") as file:\n",
    "    diff = list(difflib.context_diff(dataGetter.text, file.read()))\n",
    "    if(diff != []):\n",
    "        with open(\"delta.txt\", \"w\", encoding = \"utf-8\") as deltaFile:\n",
    "            print(\"\".join(diff))"
   ]
  },
  {
   "cell_type": "code",
   "execution_count": null,
   "metadata": {},
   "outputs": [],
   "source": [
    "print(dataGetter.text)"
   ]
  },
  {
   "cell_type": "code",
   "execution_count": 70,
   "metadata": {},
   "outputs": [],
   "source": [
    "with open(\"result.xml\", \"w\", encoding = \"utf-8\") as file:\n",
    "    file.write(dataGetter.text)"
   ]
  },
  {
   "cell_type": "code",
   "execution_count": null,
   "metadata": {},
   "outputs": [],
   "source": [
    "reportView ="
   ]
  },
  {
   "cell_type": "code",
   "execution_count": 142,
   "metadata": {},
   "outputs": [
    {
     "name": "stdout",
     "output_type": "stream",
     "text": [
      "Data {'rows': '156', 'cols': '24', 'rowPos': '0', 'colPos': '0', 'rowspan': '100', 'colspan': '24', 'd': '0'}\n",
      "Footnotes {}\n",
      "MissingValues {}\n"
     ]
    }
   ],
   "source": [
    "root = ET.fromstring(dataGetter.text)\n",
    "for child in root:\n",
    "    print(child.tag, child.attrib)"
   ]
  },
  {
   "cell_type": "code",
   "execution_count": 193,
   "metadata": {},
   "outputs": [
    {
     "ename": "AttributeError",
     "evalue": "'xml.etree.ElementTree.Element' object has no attribute 'Data'",
     "output_type": "error",
     "traceback": [
      "\u001b[1;31m---------------------------------------------------------------------------\u001b[0m",
      "\u001b[1;31mAttributeError\u001b[0m                            Traceback (most recent call last)",
      "\u001b[1;32m<ipython-input-193-0d9a81bf859e>\u001b[0m in \u001b[0;36m<module>\u001b[1;34m\u001b[0m\n\u001b[1;32m----> 1\u001b[1;33m \u001b[0mprint\u001b[0m\u001b[1;33m(\u001b[0m\u001b[0mroot\u001b[0m\u001b[1;33m.\u001b[0m\u001b[0mData\u001b[0m\u001b[1;33m.\u001b[0m\u001b[0mfindall\u001b[0m\u001b[1;33m(\u001b[0m\u001b[1;34m\"DimLabel\"\u001b[0m\u001b[1;33m)\u001b[0m\u001b[1;33m)\u001b[0m\u001b[1;33m\u001b[0m\u001b[1;33m\u001b[0m\u001b[0m\n\u001b[0m",
      "\u001b[1;31mAttributeError\u001b[0m: 'xml.etree.ElementTree.Element' object has no attribute 'Data'"
     ]
    }
   ],
   "source": [
    "print(root.findall(\"DimLabel\"))"
   ]
  },
  {
   "cell_type": "code",
   "execution_count": 3,
   "metadata": {},
   "outputs": [],
   "source": [
    "# deal with input\n",
    "ECONOMY = str()\n",
    "YEAR_START = 1995\n",
    "Year_end = None\n",
    "PARTNER = list()\n",
    "PRODUCT_GROUPS = list()"
   ]
  },
  {
   "cell_type": "code",
   "execution_count": 290,
   "metadata": {},
   "outputs": [],
   "source": [
    "PADDING = ' ' * 10\n",
    "wb = Workbook()\n",
    "export = wb.active\n",
    "export.title = \"科技產品出口\"\n",
    "export[\"A1\"] = \"Merchandise trade matrix – product groups, exports in thousands\" +\n",
    "                \" of United States dollars, {}\"\n",
    "export[\"A4\"] = \"ECONOMY\"\n",
    "export[\"A6\"] = \"YEAR\"\n",
    "export[\"A7\"] = \"PRODUCT\"\n",
    "\n",
    "wb.save('./test.xlsx')"
   ]
  },
  {
   "cell_type": "code",
   "execution_count": 341,
   "metadata": {},
   "outputs": [],
   "source": [
    "wb = load_workbook(\"./haha.xlsx\")"
   ]
  },
  {
   "cell_type": "code",
   "execution_count": 347,
   "metadata": {},
   "outputs": [
    {
     "name": "stdout",
     "output_type": "stream",
     "text": [
      "科技產品出口\n"
     ]
    }
   ],
   "source": [
    "for sheet in wb:\n",
    "    print(sheet.title)"
   ]
  }
 ],
 "metadata": {
  "kernelspec": {
   "display_name": "Python 3",
   "language": "python",
   "name": "python3"
  },
  "language_info": {
   "codemirror_mode": {
    "name": "ipython",
    "version": 3
   },
   "file_extension": ".py",
   "mimetype": "text/x-python",
   "name": "python",
   "nbconvert_exporter": "python",
   "pygments_lexer": "ipython3",
   "version": "3.6.10"
  }
 },
 "nbformat": 4,
 "nbformat_minor": 4
}
